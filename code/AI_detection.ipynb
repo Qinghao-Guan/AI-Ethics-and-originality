{
  "nbformat": 4,
  "nbformat_minor": 0,
  "metadata": {
    "colab": {
      "provenance": []
    },
    "kernelspec": {
      "name": "python3",
      "display_name": "Python 3"
    },
    "language_info": {
      "name": "python"
    }
  },
  "cells": [
    {
      "cell_type": "code",
      "execution_count": null,
      "metadata": {
        "id": "t30DT1hFBGhN"
      },
      "outputs": [],
      "source": [
        "import openai\n",
        "import pandas as pd\n",
        "import time\n",
        "from openai import OpenAI\n",
        "\n",
        "\n",
        "# API key\n",
        "OPENAI_API_KEY = \"sk-proj-xxx\"\n",
        "\n",
        "client = OpenAI(api_key=OPENAI_API_KEY)\n",
        "\n",
        "\n",
        "\n",
        "# Load the dataset (take the human-written dataset as an example)\n",
        "df = pd.read_excel(\"/content/human_dataset.xlsx\")\n",
        "\n",
        "# This is to classify text using the ChatGPT-4o model\n",
        "def classify_text(text):\n",
        "    try:\n",
        "        system_prompt = \"You are a detector and your task is to detect whether the given text is written by a human or a Large Language Model. The human writers are Logistics Management Engineering and Geological Engineering graduate students.\"\n",
        "        user_prompt = f\"\"\"\n",
        "        Give/Classify the essay a label from/into \"AI-generated\", \"human-written\", or \"unclear\".\\n\n",
        "        Essay:{text}\\n\n",
        "        Label/Class:\n",
        "        \"\"\"\n",
        "\n",
        "        response = client.chat.completions.create(\n",
        "            model=\"gpt-4o\",\n",
        "            messages=[\n",
        "                {\"role\": \"system\", \"content\": system_prompt},\n",
        "                {\"role\": \"user\", \"content\": user_prompt}\n",
        "            ],\n",
        "            temperature=0,\n",
        "            max_tokens=30\n",
        "        )\n",
        "\n",
        "        label = response.choices[0].message.content.strip()\n",
        "        return label\n",
        "\n",
        "    except Exception as e:\n",
        "        print(f\"Error: {e}\")\n",
        "        return \"error\"\n",
        "\n",
        "# Classification\n",
        "predicted_labels = []\n",
        "for idx, row in df.iterrows():\n",
        "    print(f\"Classifying row {idx + 1}/{len(df)}...\")\n",
        "    predicted_label = classify_text(row['Essay'])\n",
        "    print(f\"Predicted Label: {predicted_label}\")\n",
        "\n",
        "    predicted_labels.append(predicted_label)\n",
        "    time.sleep(1)\n",
        "\n",
        "# Add predictions to the dataframe\n",
        "df[\"predicted_label\"] = predicted_labels\n",
        "\n",
        "# Save to Excel\n",
        "df.to_excel(\"human-written dataset.xlsx\", index=False)\n",
        "print(\"✅ Classification complete and saved.\")\n"
      ]
    }
  ]
}